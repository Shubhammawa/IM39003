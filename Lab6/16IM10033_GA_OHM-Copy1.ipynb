{
 "cells": [
  {
   "cell_type": "code",
   "execution_count": 1,
   "metadata": {},
   "outputs": [],
   "source": [
    "import numpy as np"
   ]
  },
  {
   "cell_type": "code",
   "execution_count": 2,
   "metadata": {},
   "outputs": [],
   "source": [
    "def Obj_func(x1,x2,n=5):\n",
    "    sum1 = 0\n",
    "    sum2 = 0\n",
    "    for i in range(1,n+1):\n",
    "        sum1+= i*np.cos((i+1)*x1 + i)\n",
    "        sum2+= i*np.cos((i+1)*x2 + i)\n",
    "    obj_func = sum1*sum2\n",
    "    return obj_func"
   ]
  },
  {
   "cell_type": "code",
   "execution_count": 3,
   "metadata": {},
   "outputs": [],
   "source": [
    "def fitness(obj_func):\n",
    "    '''Fitness function in a minimization problem'''\n",
    "    fitness = 1/(1+obj_func)\n",
    "    return fitness"
   ]
  },
  {
   "cell_type": "code",
   "execution_count": 4,
   "metadata": {},
   "outputs": [],
   "source": [
    "def init_population(pop_size=50, encoding_size=16):\n",
    "    '''Generates initial population of population size pop_size\n",
    "    where each chromosome is a binary string of size encoding_size'''\n",
    "    \n",
    "    # First 8 bits represent X1, next 8 bits represent X2\n",
    "    x = []\n",
    "    for i in range(0,pop_size):\n",
    "        x.append(np.random.randint(2, size=encoding_size))\n",
    "    x = np.array(x)\n",
    "    return x"
   ]
  },
  {
   "cell_type": "code",
   "execution_count": 5,
   "metadata": {},
   "outputs": [
    {
     "name": "stdout",
     "output_type": "stream",
     "text": [
      "[0 0 1 1 1 0 1 0 1 1 0 0 1 0 0 1]\n",
      "50\n"
     ]
    }
   ],
   "source": [
    "# Sample population of size 3\n",
    "x = init_population(pop_size=50)\n",
    "print(x[0])\n",
    "print(x.shape[0])"
   ]
  },
  {
   "cell_type": "code",
   "execution_count": 6,
   "metadata": {},
   "outputs": [],
   "source": [
    "def decoding(x):\n",
    "    '''Binary to decimal conversion'''\n",
    "#     x1 = []\n",
    "#     x2 = []\n",
    "#     for i in range(0,x.shape[0]):\n",
    "#         temp1 = 0\n",
    "#         for j in range(0,int((x.shape[1])/2)):\n",
    "#             temp1+= np.power(2,(((x.shape[1])/2) -j-1))*x[i][j]\n",
    "#         x1.append(temp1)\n",
    "        \n",
    "#         temp2 = 0\n",
    "#         for k in range(int((x.shape[1])/2),int(x.shape[1])):\n",
    "#             #print(k)\n",
    "#             #print(x[i][k])\n",
    "#             temp2+= np.power(2,(((x.shape[1])) -k-1))*x[i][k]\n",
    "#         #print(\"\")\n",
    "#         x2.append(temp2)\n",
    "#     x_dec = [x1,x2]\n",
    "#     x_dec = np.array(x_dec)\n",
    "#     return x_dec\n",
    "    x1 = 0\n",
    "    x2 = 0\n",
    "    temp1 = 0\n",
    "    for j in range(0,int((x.shape[0])/2)):\n",
    "        temp1+= np.power(2,(((x.shape[0])/2) -j-1))*x[j]\n",
    "    x1 = temp1\n",
    "        \n",
    "    temp2 = 0\n",
    "    for k in range(int((x.shape[0])/2),int(x.shape[0])):\n",
    "        temp2+= np.power(2,(((x.shape[0])) -k-1))*x[k]\n",
    "    x2 = temp2\n",
    "    x_dec = [x1,x2]\n",
    "    x_dec = np.array(x_dec)\n",
    "    return x_dec"
   ]
  },
  {
   "cell_type": "code",
   "execution_count": 7,
   "metadata": {},
   "outputs": [
    {
     "name": "stdout",
     "output_type": "stream",
     "text": [
      "[0 0 0 1 1 0 0 0 0 0 0 0 1 0 1 0]\n",
      "(50, 16)\n"
     ]
    }
   ],
   "source": [
    "#print(x)\n",
    "print(x[-1])\n",
    "print(x.shape)"
   ]
  },
  {
   "cell_type": "code",
   "execution_count": 8,
   "metadata": {},
   "outputs": [
    {
     "name": "stdout",
     "output_type": "stream",
     "text": [
      "[24. 10.]\n"
     ]
    }
   ],
   "source": [
    "x_dec = decoding(x[-1])\n",
    "print(x_dec)\n",
    "#print(x_dec[:,0])"
   ]
  },
  {
   "cell_type": "code",
   "execution_count": 9,
   "metadata": {},
   "outputs": [],
   "source": [
    "def tournament_selection(x):\n",
    "    '''Selection operator'''\n",
    "    mating_pool = []\n",
    "    for i in range(0,x.shape[0]):\n",
    "        player1 = x[int(np.random.rand(1)*x.shape[0]),:]\n",
    "        player2 = x[int(np.random.rand(1)*x.shape[0]),:]\n",
    "        \n",
    "        p1_x1, p1_x2 = decoding(player1)\n",
    "        p2_x1, p2_x2 = decoding(player2)\n",
    "        if(Obj_func(p1_x1,p1_x2,5)<Obj_func(p2_x1,p2_x2,5)):\n",
    "            mating_pool.append(player1)\n",
    "        else:\n",
    "            mating_pool.append(player2)\n",
    "    return np.array(mating_pool)"
   ]
  },
  {
   "cell_type": "code",
   "execution_count": 10,
   "metadata": {},
   "outputs": [
    {
     "name": "stdout",
     "output_type": "stream",
     "text": [
      "(50, 16)\n",
      "[0 1 1 1 0 1 1 1 0 1 0 1 0 1 0 1]\n"
     ]
    }
   ],
   "source": [
    "mating_pool = tournament_selection(x)\n",
    "print(mating_pool.shape)\n",
    "print(mating_pool[0])"
   ]
  },
  {
   "cell_type": "code",
   "execution_count": 11,
   "metadata": {},
   "outputs": [],
   "source": [
    "def crossover(chromosome_1, chromosome_2):\n",
    "    '''Two point crossover operator'''\n",
    "    p1 = int(np.random.rand(1)*chromosome_1.shape[0])\n",
    "    p2 = int(np.random.rand(1)*chromosome_2.shape[0])\n",
    "    \n",
    "    for i in range(p1,p2):\n",
    "        temp = chromosome_1[i]\n",
    "        chromosome_1[i] = chromosome_2[i]\n",
    "        chromosome_2[i] = temp\n",
    "    return [chromosome_1,chromosome_2]"
   ]
  },
  {
   "cell_type": "code",
   "execution_count": 12,
   "metadata": {},
   "outputs": [],
   "source": [
    "def mutation(x, P_m = 0.2):\n",
    "    '''Bit flip mutation operator'''\n",
    "    for i in range(0,x.shape[0]):\n",
    "        for j in range(0,x.shape[1]):\n",
    "            rand_num = np.random.uniform()\n",
    "            if(rand_num<P_m):\n",
    "                if(x[i][j]==0):\n",
    "                    x[i][j]==1\n",
    "                elif(x[i][j]==1):\n",
    "                    x[i][j]==0\n",
    "    return x"
   ]
  },
  {
   "cell_type": "code",
   "execution_count": 13,
   "metadata": {},
   "outputs": [
    {
     "name": "stdout",
     "output_type": "stream",
     "text": [
      "13\n"
     ]
    }
   ],
   "source": [
    "print(int((np.random.rand(1))*x.shape[0]))"
   ]
  },
  {
   "cell_type": "code",
   "execution_count": 14,
   "metadata": {},
   "outputs": [],
   "source": [
    "def GA(P_c=0.8):\n",
    "    x = init_population()\n",
    "    x_dec = decoding(x)\n",
    "    mating_pool = tournament_selection(x)\n",
    "    new_mating_pool = []\n",
    "    #Crossover\n",
    "    # To be carried out on 80% of the chromosomes\n",
    "    num_crossovers = int(x.shape[0]*P_c)\n",
    "    for i in range(0,num_crossovers,2):\n",
    "        #print(i)\n",
    "        new_C1, new_C2 = crossover(mating_pool[i],mating_pool[i+1])\n",
    "        new_mating_pool.append(new_C1)\n",
    "        new_mating_pool.append(new_C2)\n",
    "    for i in range(0,x.shape[0]-num_crossovers):\n",
    "        new_mating_pool.append(mating_pool[i])\n",
    "    \n",
    "    new_x = mutation(np.array(new_mating_pool))\n",
    "    \n",
    "    obj_func = []\n",
    "    for i in range(0,new_x.shape[0]):\n",
    "        x1, x2 = decoding(new_x)\n",
    "        obj_func.append(Obj_func(x1,x2,5))\n",
    "        #obj_func.append(Obj_func(x2))\n",
    "    print(\"Min function value: \",np.min(obj_func))\n",
    "    "
   ]
  },
  {
   "cell_type": "code",
   "execution_count": 17,
   "metadata": {},
   "outputs": [
    {
     "name": "stdout",
     "output_type": "stream",
     "text": [
      "Min function value:  -107.57231125645566\n",
      "Min function value:  -58.86988271078222\n",
      "Min function value:  -117.52016716322235\n",
      "Min function value:  -51.73780373979851\n",
      "Min function value:  -81.15910726088035\n",
      "Min function value:  -73.90600058248134\n",
      "Min function value:  -96.2525491275223\n",
      "Min function value:  -43.28668954012624\n",
      "Min function value:  -93.06863554413506\n",
      "Min function value:  -63.97581465326793\n",
      "Min function value:  -88.86784075719791\n",
      "Min function value:  -9.17529157887539\n",
      "Min function value:  -42.51543624185617\n",
      "Min function value:  -27.56903500826657\n",
      "Min function value:  -80.0609353782162\n",
      "Min function value:  -44.56466390978496\n",
      "Min function value:  -20.35330759036955\n",
      "Min function value:  -30.029445485391218\n",
      "Min function value:  -21.076387412486937\n",
      "Min function value:  -50.98298233982895\n",
      "Min function value:  -44.22649058730344\n",
      "Min function value:  -35.38914011105719\n",
      "Min function value:  -28.316053726055983\n",
      "Min function value:  -13.815626762718614\n",
      "Min function value:  -76.50716625831662\n",
      "Min function value:  -58.08844889766269\n",
      "Min function value:  -52.171302090283085\n",
      "Min function value:  -40.8901334044686\n",
      "Min function value:  -18.63893121533285\n",
      "Min function value:  -14.564516489705541\n",
      "Min function value:  -75.755586622637\n",
      "Min function value:  -39.364008694234926\n",
      "Min function value:  -13.399517556009753\n",
      "Min function value:  -39.49396833850921\n",
      "Min function value:  -99.10955915614626\n",
      "Min function value:  -22.452600260020674\n",
      "Min function value:  -38.21153585845074\n",
      "Min function value:  -35.134031963299776\n",
      "Min function value:  -27.14308082465541\n",
      "Min function value:  -53.68697871441229\n",
      "Min function value:  -14.288403669032466\n",
      "Min function value:  -46.85048049783555\n",
      "Min function value:  -27.614312438730362\n",
      "Min function value:  -25.63405841203355\n",
      "Min function value:  -23.669680657809486\n",
      "Min function value:  -50.644025385911114\n",
      "Min function value:  -37.62743512965037\n",
      "Min function value:  -47.25282741551945\n",
      "Min function value:  -9.437316730720731\n",
      "Min function value:  -118.87155110281128\n"
     ]
    }
   ],
   "source": [
    "num_iter = 50\n",
    "for i in range(0,num_iter):\n",
    "    GA()"
   ]
  },
  {
   "cell_type": "code",
   "execution_count": null,
   "metadata": {},
   "outputs": [],
   "source": []
  }
 ],
 "metadata": {
  "kernelspec": {
   "display_name": "Python 3",
   "language": "python",
   "name": "python3"
  },
  "language_info": {
   "codemirror_mode": {
    "name": "ipython",
    "version": 3
   },
   "file_extension": ".py",
   "mimetype": "text/x-python",
   "name": "python",
   "nbconvert_exporter": "python",
   "pygments_lexer": "ipython3",
   "version": "3.6.5"
  }
 },
 "nbformat": 4,
 "nbformat_minor": 2
}
