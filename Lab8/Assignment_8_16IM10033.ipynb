{
 "cells": [
  {
   "cell_type": "code",
   "execution_count": 1,
   "metadata": {},
   "outputs": [],
   "source": [
    "import numpy as np"
   ]
  },
  {
   "cell_type": "code",
   "execution_count": 34,
   "metadata": {},
   "outputs": [],
   "source": [
    "# Control Parameters\n",
    "num_ants = 5000\n",
    "num_nodes = 20\n",
    "alpha = 1\n",
    "beta = 1\n",
    "init_pheromone = 1\n",
    "evap = 0.1\n",
    "pher_iter = 5"
   ]
  },
  {
   "cell_type": "code",
   "execution_count": 35,
   "metadata": {},
   "outputs": [],
   "source": [
    "cordinate_matrix = np.array([[0.0333692, 0.9925079],\n",
    "[0.6020896, 0.0168807],\n",
    "[0.1532083, 0.7020444],\n",
    "[0.3181124, 0.1469288],\n",
    "[0.1878440, 0.8679120],\n",
    "[0.9786112, 0.4925364],\n",
    "[0.7918010, 0.7943144],\n",
    "[0.5145329, 0.0363478],\n",
    "[0.5500754, 0.8324617],\n",
    "[0.3893757, 0.6635483],\n",
    "[0.9641841, 0.6400201],\n",
    "[0.7718126, 0.5463923],\n",
    "[0.7549037, 0.4584584],\n",
    "[0.2837881, 0.7733415],\n",
    "[0.3308411, 0.1974851],\n",
    "[0.7977221, 0.1193149],\n",
    "[0.3221207, 0.7930478],\n",
    "[0.9201035, 0.1186234],\n",
    "[0.2397964, 0.1448552],\n",
    "[0.3967470, 0.6716172]])"
   ]
  },
  {
   "cell_type": "code",
   "execution_count": 36,
   "metadata": {},
   "outputs": [],
   "source": [
    "dist_matrix = np.zeros((num_nodes, num_nodes))\n",
    "for i in range(num_nodes):\n",
    "    for j in range(num_nodes):\n",
    "        dist_matrix[i][j] = np.sqrt((np.power((cordinate_matrix[i][0] - cordinate_matrix[j][0]),2) + \n",
    "                                     (np.power((cordinate_matrix[i][1] - cordinate_matrix[j][1]),2))))"
   ]
  },
  {
   "cell_type": "code",
   "execution_count": 37,
   "metadata": {},
   "outputs": [],
   "source": [
    "tabu = np.ones((num_nodes,))\n",
    "# To store the probability of each node in the tabu list. \n",
    "prob_list = {} \n",
    "cumm_list = {} \n",
    "score = {}\n",
    "count = np.random.randint(0,1,(num_nodes,num_nodes))\n",
    "paths = []\n",
    "distances = []\n",
    "best_path = []\n",
    "best_distances = []\n",
    "Pheromone_matrix = np.ones((num_nodes,num_nodes))"
   ]
  },
  {
   "cell_type": "code",
   "execution_count": 38,
   "metadata": {},
   "outputs": [],
   "source": [
    "def dist_calc(path,dist_matrix):\n",
    "    dist = 0\n",
    "    for i in range(len(path)-1):\n",
    "        dist = dist + dist_matrix[path[i]][path[i+1]]\n",
    "    return dist"
   ]
  },
  {
   "cell_type": "code",
   "execution_count": 39,
   "metadata": {},
   "outputs": [],
   "source": [
    "for i in range(num_ants):\n",
    "    current_path = []\n",
    "    \n",
    "    # Initializing tabu list\n",
    "    tabu = list(np.arange(num_nodes))\n",
    "    \n",
    "    # Random Selection of first node \n",
    "    current_path.append(np.random.randint(0,num_nodes))\n",
    "    tabu.remove(current_path[0])\n",
    "    path_length = 0\n",
    "    \n",
    "    # Iteration for one ant\n",
    "    while(len(tabu) != 0):\n",
    "        total_score = 0\n",
    "        score = {}\n",
    "        for j in tabu:\n",
    "            # Computing scores for the next possible node.\n",
    "            score[j] = (Pheromone_matrix[current_path[path_length]][j]*((i+1)**alpha))*((1/dist_matrix[current_path[path_length]][j])**beta)\n",
    "            \n",
    "            total_score = total_score + score[j]\n",
    "\n",
    "        flag = 0\n",
    "        prob_list = {}\n",
    "        cumm_list = {}\n",
    "        \n",
    "        # Calucating the probabilities and cummulative probabilities of respective possible edges\n",
    "        for k in (tabu):\n",
    "            if(flag == 0):\n",
    "                prob_list[k] = score[k]/total_score\n",
    "                cumm_list[k] = score[k]/total_score\n",
    "                prev = k\n",
    "                flag = flag +1\n",
    "            else:\n",
    "                prob_list[k] = score[k]/total_score\n",
    "                cumm_list[k] = score[k]/total_score + cumm_list[prev]\n",
    "                prev = k\n",
    "        \n",
    "        # Performing Roulette Wheel Selection for the next node.\n",
    "        r = np.random.uniform(0,1)\n",
    "        \n",
    "        if(len(tabu) != 1):\n",
    "            for k in range(len(tabu)-1):\n",
    "                if(k==0):\n",
    "                    if(r < cumm_list[tabu[k]]): \n",
    "                        current_path.append(tabu[k])\n",
    "                        tabu.remove(tabu[k])\n",
    "                        count[current_path[path_length]][current_path[path_length + 1]] = (count[current_path[path_length]][current_path[path_length + 1]] + 1)\n",
    "                        path_length = path_length + 1\n",
    "                        \n",
    "                else:\n",
    "                    if(r >= cumm_list[tabu[k]] and r < cumm_list[tabu[k+1]]):\n",
    "                        current_path.append(tabu[k+1])\n",
    "                        tabu.remove(tabu[k+1])\n",
    "                        count[current_path[path_length]][current_path[path_length + 1]] = (count[current_path[path_length]][current_path[path_length + 1]] + 1)\n",
    "                        path_length = path_length + 1\n",
    "                        \n",
    "        else:\n",
    "\n",
    "            current_path.append(tabu[0])\n",
    "            tabu.remove(tabu[0])\n",
    "            count[current_path[path_length]][current_path[path_length + 1]] = (count[current_path[path_length]][current_path[path_length + 1]] + 1)\n",
    "            path_length = path_length + 1\n",
    "            \n",
    "    paths.append(current_path)\n",
    "    distances.append(dist_calc(current_path,dist_matrix))\n",
    "    \n",
    "    \n",
    "    #print(\"This is current_path\", current_path, \"\\n current distance\", dist_cal(current_path,D_mat))\n",
    "    for l in range(len(current_path)-1):\n",
    "        Pheromone_matrix[current_path[l]][current_path[l+1]] = (1-evap)*Pheromone_matrix[current_path[l]][current_path[l+1]] +  (pher_iter)/dist_calc(current_path, dist_matrix)\n",
    "        "
   ]
  },
  {
   "cell_type": "code",
   "execution_count": 40,
   "metadata": {},
   "outputs": [
    {
     "name": "stdout",
     "output_type": "stream",
     "text": [
      "The best path obtained is [13, 4, 2, 0, 16, 9, 19, 12, 8, 6, 10, 5, 11, 1, 17, 15, 14, 18, 3, 7]\n",
      "\n",
      " The minimum Distance is  4.701948457226122\n"
     ]
    }
   ],
   "source": [
    "min_index = distances.index(min(distances))\n",
    "print(\"The best path obtained is\",paths[min_index])\n",
    "print( \"\\n The minimum Distance is \", min(distances))"
   ]
  },
  {
   "cell_type": "code",
   "execution_count": null,
   "metadata": {},
   "outputs": [],
   "source": []
  }
 ],
 "metadata": {
  "kernelspec": {
   "display_name": "Python 3",
   "language": "python",
   "name": "python3"
  },
  "language_info": {
   "codemirror_mode": {
    "name": "ipython",
    "version": 3
   },
   "file_extension": ".py",
   "mimetype": "text/x-python",
   "name": "python",
   "nbconvert_exporter": "python",
   "pygments_lexer": "ipython3",
   "version": "3.5.2"
  }
 },
 "nbformat": 4,
 "nbformat_minor": 2
}
